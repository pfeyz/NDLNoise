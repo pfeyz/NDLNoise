{
 "cells": [
  {
   "cell_type": "code",
   "execution_count": 5,
   "metadata": {},
   "outputs": [
    {
     "data": {
      "text/plain": [
       "(2000, 21)"
      ]
     },
     "execution_count": 5,
     "metadata": {},
     "output_type": "execute_result"
    }
   ],
   "source": [
    "%matplotlib inline\n",
    "\n",
    "import matplotlib.pyplot as plt\n",
    "import pandas as pd\n",
    "import numpy as np\n",
    "\n",
    "PARAMS_NOT_IMPLEMENTED = ['OPT', 'ItoC', 'QInv']\n",
    "\n",
    "simulation_output = \"../data/output_2020-09-23:22:05_rate:0.05_consrate:0.01.csv\"\n",
    "\n",
    "df = pd.read_csv(simulation_output)\n",
    "df.shape  # (num-rows, num-columns)"
   ]
  },
  {
   "cell_type": "code",
   "execution_count": 15,
   "metadata": {},
   "outputs": [
    {
     "data": {
      "text/plain": [
       "['SP', 'HIP', 'HCP']"
      ]
     },
     "execution_count": 15,
     "metadata": {},
     "output_type": "execute_result"
    }
   ],
   "source": [
    "# the column names that store the learned param values\n",
    "parameter_names = [p\n",
    "                   for p in df.columns \n",
    "                   if p[0].isupper()]\n",
    "parameter_names[:3]"
   ]
  },
  {
   "cell_type": "code",
   "execution_count": 16,
   "metadata": {},
   "outputs": [],
   "source": [
    "def int2binstr(i):\n",
    "    \"Returns a 13-bit binary repr of a number\"\n",
    "    return format(i, '013b')\n",
    "\n",
    "def param_name_to_int(param):\n",
    "    \"\"\" Converts a parameter name into its integer equivalent, \n",
    "    derived from its position in the grammar bitstring \"\"\"\n",
    "    \n",
    "    return 1 << (len(parameter_names) - parameter_names.index(param) - 1)"
   ]
  },
  {
   "cell_type": "code",
   "execution_count": 17,
   "metadata": {},
   "outputs": [
    {
     "data": {
      "text/html": [
       "<div>\n",
       "<style scoped>\n",
       "    .dataframe tbody tr th:only-of-type {\n",
       "        vertical-align: middle;\n",
       "    }\n",
       "\n",
       "    .dataframe tbody tr th {\n",
       "        vertical-align: top;\n",
       "    }\n",
       "\n",
       "    .dataframe thead th {\n",
       "        text-align: right;\n",
       "    }\n",
       "</style>\n",
       "<table border=\"1\" class=\"dataframe\">\n",
       "  <thead>\n",
       "    <tr style=\"text-align: right;\">\n",
       "      <th></th>\n",
       "      <th>param name</th>\n",
       "      <th>param number</th>\n",
       "      <th>bitstring value</th>\n",
       "    </tr>\n",
       "  </thead>\n",
       "  <tbody>\n",
       "    <tr>\n",
       "      <th>0</th>\n",
       "      <td>SP</td>\n",
       "      <td>13</td>\n",
       "      <td>4096</td>\n",
       "    </tr>\n",
       "    <tr>\n",
       "      <th>1</th>\n",
       "      <td>HIP</td>\n",
       "      <td>12</td>\n",
       "      <td>2048</td>\n",
       "    </tr>\n",
       "    <tr>\n",
       "      <th>2</th>\n",
       "      <td>HCP</td>\n",
       "      <td>11</td>\n",
       "      <td>1024</td>\n",
       "    </tr>\n",
       "    <tr>\n",
       "      <th>3</th>\n",
       "      <td>OPT</td>\n",
       "      <td>10</td>\n",
       "      <td>512</td>\n",
       "    </tr>\n",
       "    <tr>\n",
       "      <th>4</th>\n",
       "      <td>NS</td>\n",
       "      <td>9</td>\n",
       "      <td>256</td>\n",
       "    </tr>\n",
       "    <tr>\n",
       "      <th>5</th>\n",
       "      <td>NT</td>\n",
       "      <td>8</td>\n",
       "      <td>128</td>\n",
       "    </tr>\n",
       "    <tr>\n",
       "      <th>6</th>\n",
       "      <td>WHM</td>\n",
       "      <td>7</td>\n",
       "      <td>64</td>\n",
       "    </tr>\n",
       "    <tr>\n",
       "      <th>7</th>\n",
       "      <td>PI</td>\n",
       "      <td>6</td>\n",
       "      <td>32</td>\n",
       "    </tr>\n",
       "    <tr>\n",
       "      <th>8</th>\n",
       "      <td>TM</td>\n",
       "      <td>5</td>\n",
       "      <td>16</td>\n",
       "    </tr>\n",
       "    <tr>\n",
       "      <th>9</th>\n",
       "      <td>VtoI</td>\n",
       "      <td>4</td>\n",
       "      <td>8</td>\n",
       "    </tr>\n",
       "    <tr>\n",
       "      <th>10</th>\n",
       "      <td>ItoC</td>\n",
       "      <td>3</td>\n",
       "      <td>4</td>\n",
       "    </tr>\n",
       "    <tr>\n",
       "      <th>11</th>\n",
       "      <td>AH</td>\n",
       "      <td>2</td>\n",
       "      <td>2</td>\n",
       "    </tr>\n",
       "    <tr>\n",
       "      <th>12</th>\n",
       "      <td>QInv</td>\n",
       "      <td>1</td>\n",
       "      <td>1</td>\n",
       "    </tr>\n",
       "  </tbody>\n",
       "</table>\n",
       "</div>"
      ],
      "text/plain": [
       "   param name  param number  bitstring value\n",
       "0          SP            13             4096\n",
       "1         HIP            12             2048\n",
       "2         HCP            11             1024\n",
       "3         OPT            10              512\n",
       "4          NS             9              256\n",
       "5          NT             8              128\n",
       "6         WHM             7               64\n",
       "7          PI             6               32\n",
       "8          TM             5               16\n",
       "9        VtoI             4                8\n",
       "10       ItoC             3                4\n",
       "11         AH             2                2\n",
       "12       QInv             1                1"
      ]
     },
     "execution_count": 17,
     "metadata": {},
     "output_type": "execute_result"
    }
   ],
   "source": [
    "import math\n",
    "pd.DataFrame(\n",
    "    [(p, \n",
    "      int(math.log(param_name_to_int(p), 2))+1, \n",
    "      param_name_to_int(p))\n",
    "        for p in parameter_names],\n",
    "    columns=['param name', 'param number', 'bitstring value'])"
   ]
  },
  {
   "cell_type": "code",
   "execution_count": 23,
   "metadata": {},
   "outputs": [],
   "source": [
    "def jiggle(size, width=0):\n",
    "    \" Return `size` random values centered around zero from -width/2 to width/2.\"\n",
    "    j = np.random.random(size) * 2 - 1\n",
    "    return j * (width / 2)"
   ]
  },
  {
   "cell_type": "markdown",
   "metadata": {},
   "source": [
    "# Scatterplot\n",
    "\n",
    "Offsetting the closed circles to the left and the open to the right is more honest, but less pretty. The only place it really matters is AH though."
   ]
  },
  {
   "cell_type": "code",
   "execution_count": 29,
   "metadata": {},
   "outputs": [],
   "source": [
    "#parameter_names = [p for p in parameter_names if p not in SKIPPED_PARAMS]\n",
    "\n",
    "def plot(df):\n",
    "    plt.rcParams['figure.figsize'] = 18, 6\n",
    "    fig, ax = plt.subplots(1,1) \n",
    "\n",
    "    param_subset = [p for p in parameter_names\n",
    "                   if p not in PARAMS_NOT_IMPLEMENTED]\n",
    "\n",
    "    lang_means = df.groupby('language')[param_subset].mean()\n",
    "    lang_means['language'] = lang_means.index\n",
    "    circle_size = 40\n",
    "\n",
    "    closed_circle_color = '#60aef0'\n",
    "    open_circle_color = '#004040'\n",
    "\n",
    "    for index, param in enumerate(param_subset):\n",
    "\n",
    "        param_is_on = np.bitwise_and(param_name_to_int(param), lang_means.language).gt(0)\n",
    "        expected_zero = lang_means[~param_is_on]\n",
    "        expected_one = lang_means[param_is_on]\n",
    "\n",
    "        # the closed circles\n",
    "        ax.scatter(x=index + jiggle(len(expected_zero), 0.3) + 0,\n",
    "                   y=expected_zero[param], \n",
    "                   marker='o', \n",
    "                   s=circle_size,\n",
    "                   edgecolors='gray',\n",
    "                   facecolors=closed_circle_color)\n",
    "\n",
    "        # the open circles\n",
    "        ax.scatter(x=index + jiggle(len(expected_one), 0.3) - 0,\n",
    "                    y=expected_one[param], \n",
    "                    marker='o', \n",
    "                    s=circle_size,\n",
    "                    edgecolors='grey',\n",
    "                    facecolors=open_circle_color)\n",
    "\n",
    "    plt.scatter(np.arange(len(param_subset)),\n",
    "                np.repeat(0.5, len(param_subset)),\n",
    "                color='black',\n",
    "                alpha=0.5,\n",
    "                s=500,\n",
    "                marker='_')\n",
    "\n",
    "\n",
    "    ax.set_xticks(np.arange(0, len(param_subset)))\n",
    "    ax.set_xticklabels(param_subset, fontsize=16, )\n",
    "\n",
    "    plt.ylim(-0.05, 1.05) \n",
    "    plt.grid(axis='x')\n",
    "\n",
    "    plot_margin = 1\n",
    "\n",
    "    x0, x1, y0, y1 = plt.axis()\n",
    "    plt.axis((x0 + 1,\n",
    "              x1 + plot_margin,\n",
    "              y0,\n",
    "              y1));\n",
    "    import matplotlib.lines as mlines\n",
    "    import matplotlib.pyplot as plt\n",
    "\n",
    "    closed_circle_legend = mlines.Line2D([], [], color=closed_circle_color, \n",
    "                              marker='o',\n",
    "                              markersize=8, \n",
    "                              label='Expected C-value 0')\n",
    "\n",
    "    open_circle_legend = mlines.Line2D([], [], color=open_circle_color, \n",
    "                              marker='o',\n",
    "                              markersize=8, \n",
    "                              label='Expected C-value 1')\n",
    "\n",
    "    plt.legend(handles=[open_circle_legend, closed_circle_legend])\n",
    "    plt.xlabel('Parameters')\n",
    "    plt.ylabel('Confidence Values');"
   ]
  },
  {
   "cell_type": "code",
   "execution_count": 57,
   "metadata": {
    "collapsed": true
   },
   "outputs": [],
   "source": [
    "plt.subplots_adjust?"
   ]
  }
 ],
 "metadata": {
  "kernelspec": {
   "display_name": "Python 3",
   "language": "python",
   "name": "python3"
  },
  "language_info": {
   "codemirror_mode": {
    "name": "ipython",
    "version": 3
   },
   "file_extension": ".py",
   "mimetype": "text/x-python",
   "name": "python",
   "nbconvert_exporter": "python",
   "pygments_lexer": "ipython3",
   "version": "3.8.5"
  }
 },
 "nbformat": 4,
 "nbformat_minor": 2
}
